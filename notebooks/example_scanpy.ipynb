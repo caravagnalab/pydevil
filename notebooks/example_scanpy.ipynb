{
 "cells": [
  {
   "cell_type": "code",
   "execution_count": 1,
   "metadata": {},
   "outputs": [
    {
     "name": "stderr",
     "output_type": "stream",
     "text": [
      "/home/salvatore.milite/miniconda3/envs/scdeepaa/lib/python3.11/site-packages/tqdm/auto.py:21: TqdmWarning: IProgress not found. Please update jupyter and ipywidgets. See https://ipywidgets.readthedocs.io/en/stable/user_install.html\n",
      "  from .autonotebook import tqdm as notebook_tqdm\n"
     ]
    }
   ],
   "source": [
    "import scanpy as sc\n",
    "import patsy as ptsy\n",
    "import torch\n",
    "import numpy as np"
   ]
  },
  {
   "cell_type": "code",
   "execution_count": 2,
   "metadata": {},
   "outputs": [],
   "source": [
    "adata = sc.datasets.ebi_expression_atlas(\"E-MTAB-8559\", filter_boring = True)\n",
    "\n",
    "sc.pp.filter_genes(adata, min_cells=100)\n",
    "sc.pp.filter_cells(adata, min_genes=200)"
   ]
  },
  {
   "cell_type": "code",
   "execution_count": 3,
   "metadata": {},
   "outputs": [],
   "source": [
    "# a bit of metadata cleaning\n",
    "\n",
    "adata.obs.columns = adata.obs.columns.str.replace(\"Factor Value[\", \"\")\n",
    "adata.obs.columns = adata.obs.columns.str.replace(\"]\", \"\")\n",
    "# remove duplicated coloumn\n",
    "adata.obs = adata.obs.drop(columns = \"individual\")\n",
    "adata.obs.columns = adata.obs.columns.str.replace(\"Sample Characteristic[\", \"\")\n",
    "adata.obs.columns = adata.obs.columns.str.replace(\"growth condition\", \"growth_condition\")\n",
    "\n"
   ]
  },
  {
   "cell_type": "code",
   "execution_count": 4,
   "metadata": {},
   "outputs": [
    {
     "data": {
      "text/html": [
       "<div>\n",
       "<style scoped>\n",
       "    .dataframe tbody tr th:only-of-type {\n",
       "        vertical-align: middle;\n",
       "    }\n",
       "\n",
       "    .dataframe tbody tr th {\n",
       "        vertical-align: top;\n",
       "    }\n",
       "\n",
       "    .dataframe thead th {\n",
       "        text-align: right;\n",
       "    }\n",
       "</style>\n",
       "<table border=\"1\" class=\"dataframe\">\n",
       "  <thead>\n",
       "    <tr style=\"text-align: right;\">\n",
       "      <th></th>\n",
       "      <th>age</th>\n",
       "      <th>individual</th>\n",
       "      <th>tumor grading</th>\n",
       "      <th>growth_condition</th>\n",
       "      <th>n_genes</th>\n",
       "    </tr>\n",
       "  </thead>\n",
       "  <tbody>\n",
       "    <tr>\n",
       "      <th>SAMEA6492740-AAACCCACAGTTAGGG</th>\n",
       "      <td>81 year</td>\n",
       "      <td>38b</td>\n",
       "      <td>International Federation of Gynecology and Obs...</td>\n",
       "      <td>OCMI media supplemented with 5% hyclone serum</td>\n",
       "      <td>3117</td>\n",
       "    </tr>\n",
       "    <tr>\n",
       "      <th>SAMEA6492740-AAACCCACATGTGTCA</th>\n",
       "      <td>81 year</td>\n",
       "      <td>38b</td>\n",
       "      <td>International Federation of Gynecology and Obs...</td>\n",
       "      <td>OCMI media supplemented with 5% hyclone serum</td>\n",
       "      <td>2973</td>\n",
       "    </tr>\n",
       "    <tr>\n",
       "      <th>SAMEA6492740-AAACCCAGTCGCATGC</th>\n",
       "      <td>81 year</td>\n",
       "      <td>38b</td>\n",
       "      <td>International Federation of Gynecology and Obs...</td>\n",
       "      <td>OCMI media supplemented with 5% hyclone serum</td>\n",
       "      <td>3795</td>\n",
       "    </tr>\n",
       "    <tr>\n",
       "      <th>SAMEA6492740-AAACCCAGTCTTTCAT</th>\n",
       "      <td>81 year</td>\n",
       "      <td>38b</td>\n",
       "      <td>International Federation of Gynecology and Obs...</td>\n",
       "      <td>OCMI media supplemented with 5% hyclone serum</td>\n",
       "      <td>3706</td>\n",
       "    </tr>\n",
       "    <tr>\n",
       "      <th>SAMEA6492740-AAACCCATCCGTGTCT</th>\n",
       "      <td>81 year</td>\n",
       "      <td>38b</td>\n",
       "      <td>International Federation of Gynecology and Obs...</td>\n",
       "      <td>OCMI media supplemented with 5% hyclone serum</td>\n",
       "      <td>2174</td>\n",
       "    </tr>\n",
       "  </tbody>\n",
       "</table>\n",
       "</div>"
      ],
      "text/plain": [
       "                                   age individual   \n",
       "SAMEA6492740-AAACCCACAGTTAGGG  81 year        38b  \\\n",
       "SAMEA6492740-AAACCCACATGTGTCA  81 year        38b   \n",
       "SAMEA6492740-AAACCCAGTCGCATGC  81 year        38b   \n",
       "SAMEA6492740-AAACCCAGTCTTTCAT  81 year        38b   \n",
       "SAMEA6492740-AAACCCATCCGTGTCT  81 year        38b   \n",
       "\n",
       "                                                                   tumor grading   \n",
       "SAMEA6492740-AAACCCACAGTTAGGG  International Federation of Gynecology and Obs...  \\\n",
       "SAMEA6492740-AAACCCACATGTGTCA  International Federation of Gynecology and Obs...   \n",
       "SAMEA6492740-AAACCCAGTCGCATGC  International Federation of Gynecology and Obs...   \n",
       "SAMEA6492740-AAACCCAGTCTTTCAT  International Federation of Gynecology and Obs...   \n",
       "SAMEA6492740-AAACCCATCCGTGTCT  International Federation of Gynecology and Obs...   \n",
       "\n",
       "                                                            growth_condition   \n",
       "SAMEA6492740-AAACCCACAGTTAGGG  OCMI media supplemented with 5% hyclone serum  \\\n",
       "SAMEA6492740-AAACCCACATGTGTCA  OCMI media supplemented with 5% hyclone serum   \n",
       "SAMEA6492740-AAACCCAGTCGCATGC  OCMI media supplemented with 5% hyclone serum   \n",
       "SAMEA6492740-AAACCCAGTCTTTCAT  OCMI media supplemented with 5% hyclone serum   \n",
       "SAMEA6492740-AAACCCATCCGTGTCT  OCMI media supplemented with 5% hyclone serum   \n",
       "\n",
       "                               n_genes  \n",
       "SAMEA6492740-AAACCCACAGTTAGGG     3117  \n",
       "SAMEA6492740-AAACCCACATGTGTCA     2973  \n",
       "SAMEA6492740-AAACCCAGTCGCATGC     3795  \n",
       "SAMEA6492740-AAACCCAGTCTTTCAT     3706  \n",
       "SAMEA6492740-AAACCCATCCGTGTCT     2174  "
      ]
     },
     "execution_count": 4,
     "metadata": {},
     "output_type": "execute_result"
    }
   ],
   "source": [
    "adata.obs.head()"
   ]
  },
  {
   "cell_type": "code",
   "execution_count": 5,
   "metadata": {},
   "outputs": [],
   "source": [
    "X = adata.X"
   ]
  },
  {
   "cell_type": "code",
   "execution_count": 6,
   "metadata": {},
   "outputs": [],
   "source": [
    "sc_transofrm_v2 = ptsy.dmatrix(\"~ 1\", adata.obs)\n",
    "covariates = ptsy.dmatrix(\"~ growth_condition - 1\", adata.obs)\n",
    "random_effects = ptsy.dmatrix(\"~ individual - 1 \", adata.obs)\n"
   ]
  },
  {
   "cell_type": "code",
   "execution_count": 7,
   "metadata": {},
   "outputs": [],
   "source": [
    "import sys\n",
    "sys.path.append(\"../src/\")"
   ]
  },
  {
   "cell_type": "code",
   "execution_count": 12,
   "metadata": {},
   "outputs": [
    {
     "name": "stdout",
     "output_type": "stream",
     "text": [
      "The autoreload extension is already loaded. To reload it, use:\n",
      "  %reload_ext autoreload\n"
     ]
    }
   ],
   "source": [
    "%load_ext autoreload\n",
    "%autoreload 2\n",
    "\n",
    "import pydevil"
   ]
  },
  {
   "cell_type": "code",
   "execution_count": 21,
   "metadata": {},
   "outputs": [
    {
     "data": {
      "text/plain": [
       "(19880,)"
      ]
     },
     "execution_count": 21,
     "metadata": {},
     "output_type": "execute_result"
    }
   ],
   "source": [
    "#UMI = np.array((X.sum(1).squeeze(1) /  X.sum(1).mean())).squeeze()\n",
    "UMI = np.array(X.sum(1)).squeeze()\n",
    "UMI.shape"
   ]
  },
  {
   "cell_type": "code",
   "execution_count": 15,
   "metadata": {},
   "outputs": [],
   "source": [
    "gene_names = adata.var_names"
   ]
  },
  {
   "cell_type": "code",
   "execution_count": 16,
   "metadata": {},
   "outputs": [],
   "source": [
    "obs_names = adata.obs_names"
   ]
  },
  {
   "cell_type": "code",
   "execution_count": 30,
   "metadata": {},
   "outputs": [
    {
     "name": "stdout",
     "output_type": "stream",
     "text": [
      "cuda:0\n"
     ]
    },
    {
     "name": "stderr",
     "output_type": "stream",
     "text": [
      "ELBO: 8.39916  : 100%|██████████| 500/500 [00:31<00:00, 15.95it/s]\n"
     ]
    }
   ],
   "source": [
    "res  = pydevil.run_SVDE(X.todense(), random_effects, UMI,\n",
    "                        gene_names = gene_names,\n",
    "                        cell_names = obs_names, \n",
    "                        #group_matrix = random_effects,\n",
    "                        optimizer = \"Adam\", lr = 0.005, steps = 500, \n",
    "                        full_cov = True, cuda = True)"
   ]
  },
  {
   "cell_type": "code",
   "execution_count": 23,
   "metadata": {},
   "outputs": [],
   "source": [
    "contrast = np.array([0,1,-1,0])"
   ]
  },
  {
   "cell_type": "code",
   "execution_count": 1,
   "metadata": {},
   "outputs": [
    {
     "ename": "NameError",
     "evalue": "name 'pydevil' is not defined",
     "output_type": "error",
     "traceback": [
      "\u001b[0;31m---------------------------------------------------------------------------\u001b[0m",
      "\u001b[0;31mNameError\u001b[0m                                 Traceback (most recent call last)",
      "Cell \u001b[0;32mIn[1], line 1\u001b[0m\n\u001b[0;32m----> 1\u001b[0m marker_genes \u001b[38;5;241m=\u001b[39m \u001b[43mpydevil\u001b[49m\u001b[38;5;241m.\u001b[39mtest_posterior(res, contrast, \u001b[38;5;241m0.05\u001b[39m)\n",
      "\u001b[0;31mNameError\u001b[0m: name 'pydevil' is not defined"
     ]
    }
   ],
   "source": [
    "marker_genes = pydevil.test_posterior(res, contrast, 0.05)"
   ]
  },
  {
   "cell_type": "code",
   "execution_count": null,
   "metadata": {},
   "outputs": [],
   "source": [
    "marker_genes.loc[marker_genes.is_significant]"
   ]
  },
  {
   "cell_type": "code",
   "execution_count": null,
   "metadata": {},
   "outputs": [],
   "source": [
    "sc.pl.dotplot(pbmc, marker_genes_dict, 'cell type', dendrogram=True)\n"
   ]
  },
  {
   "cell_type": "code",
   "execution_count": 31,
   "metadata": {},
   "outputs": [
    {
     "data": {
      "text/plain": [
       "(19880, 16288)"
      ]
     },
     "execution_count": 31,
     "metadata": {},
     "output_type": "execute_result"
    }
   ],
   "source": [
    "X.todense().shape"
   ]
  },
  {
   "cell_type": "code",
   "execution_count": null,
   "metadata": {},
   "outputs": [],
   "source": []
  }
 ],
 "metadata": {
  "kernelspec": {
   "display_name": "Python [conda env:scdeepaa]",
   "language": "python",
   "name": "conda-env-scdeepaa-py"
  },
  "language_info": {
   "codemirror_mode": {
    "name": "ipython",
    "version": 3
   },
   "file_extension": ".py",
   "mimetype": "text/x-python",
   "name": "python",
   "nbconvert_exporter": "python",
   "pygments_lexer": "ipython3",
   "version": "3.11.3"
  }
 },
 "nbformat": 4,
 "nbformat_minor": 2
}
